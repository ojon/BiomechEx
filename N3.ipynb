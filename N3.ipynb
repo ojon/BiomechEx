{
 "metadata": {
  "name": "",
  "signature": "sha256:28952f3e965c6f6b1babfaeda0535a11342111f13d11f21d4dc4ccce6aaee4df"
 },
 "nbformat": 3,
 "nbformat_minor": 0,
 "worksheets": [
  {
   "cells": [
    {
     "cell_type": "markdown",
     "metadata": {},
     "source": [
      "#Problem N3\n",
      "\n",
      "Consider a transformation of a two dimensional local coordinate system which origin are the coordinates [2,3] and is rotated 45\u00b0 in relation of a global coordinate system.\n",
      "###a)\n",
      "Determine the translation, rotation and transformation matrices from the global coordinate system to the local.\n",
      "###b)\n",
      "Determine the same previous matrices from the local to the global coordinate system.\n",
      "###c)\n",
      "For a point with coordinates [1,1] in the local system, what are its coordinates in the global system?\n",
      "###d) \n",
      "For a point with coordinates [1,1] in the global system, what are its coordinates in the local system?"
     ]
    },
    {
     "cell_type": "markdown",
     "metadata": {},
     "source": [
      "#Solution\n"
     ]
    },
    {
     "cell_type": "markdown",
     "metadata": {},
     "source": [
      "###a)\n",
      "\n",
      "###Translation\n",
      "\n",
      "$$ \\mathbf{P_l} = \\mathbf{R_{lG}}\\left(\\mathbf{P_G}-\\mathbf{L_G}\\right) $$\n",
      "\n",
      "$$ \\mathbf{P_l} = \\mathbf{R_{lG}}\\left(\\mathbf{P_G}+\\mathbf{L_l}\\right) $$\n",
      "\n",
      "$$  \\mathbf{L_G} =\n",
      "\\begin{bmatrix} 2 \\\\\\ 3 \\end{bmatrix} = -\\mathbf{L_l}$$\n"
     ]
    },
    {
     "cell_type": "markdown",
     "metadata": {},
     "source": [
      "###Rotation\n",
      "\n",
      "$$ \\mathbf{R_{lG}} = \\begin{bmatrix}\n",
      "cos\\alpha & sin\\alpha \\\\\n",
      "-sin\\alpha & cos\\alpha \n",
      "\\end{bmatrix} $$\n",
      "\n",
      "$$ \\mathbf{R_{lG}} = \\begin{bmatrix}\n",
      "cos 45^o & sin45^o \\\\\n",
      "-sin45^o & cos45^o \n",
      "\\end{bmatrix}  = \\begin{bmatrix}\n",
      "\\frac{\\sqrt{2}}{2} & \\frac{\\sqrt{2}}{2} \\\\\n",
      "-\\frac{\\sqrt{2}}{2} & \\frac{\\sqrt{2}}{2} \n",
      "\\end{bmatrix} = \\begin{bmatrix}\n",
      "0.7071 & 0.7071 \\\\\n",
      "- 0.7071 & 0.7071 \n",
      "\\end{bmatrix}$$\n"
     ]
    },
    {
     "cell_type": "markdown",
     "metadata": {},
     "source": [
      "###Tranformation\n",
      "\n",
      "$$ \n",
      "\\begin{bmatrix}\n",
      "\\mathbf{P}_x \\\\\n",
      "\\mathbf{P}_y \\\\\n",
      "1\n",
      "\\end{bmatrix} =\n",
      "\\mathbf{T_{lG}} \n",
      "\\begin{bmatrix}\n",
      "\\mathbf{P_X} \\\\\n",
      "\\mathbf{P_Y} \\\\\n",
      "1\n",
      "\\end{bmatrix} =\n",
      "\\begin{bmatrix}\n",
      "\\mathbf{R^{-1}_{Gl}} & \\cdot & - \\mathbf{R^{-1}_{Gl}}\\mathbf{L_{G}} \\\\\n",
      "\\cdot & \\cdot  & \\cdot \\\\\n",
      "0 & 0 & 1\n",
      "\\end{bmatrix} \n",
      "\\begin{bmatrix}\n",
      "\\mathbf{P_X} \\\\\n",
      "\\mathbf{P_Y} \\\\\n",
      "1\n",
      "\\end{bmatrix}$$"
     ]
    },
    {
     "cell_type": "markdown",
     "metadata": {},
     "source": [
      "$$ \\mathbf{R^{-1}_{Gl}} = \\mathbf{R_{lG}} = \\begin{bmatrix}\n",
      "\\frac{\\sqrt{2}}{2} & \\frac{\\sqrt{2}}{2} \\\\\n",
      "-\\frac{\\sqrt{2}}{2} & \\frac{\\sqrt{2}}{2} \n",
      "\\end{bmatrix}$$"
     ]
    },
    {
     "cell_type": "markdown",
     "metadata": {},
     "source": [
      "$$ - \\mathbf{R^{-1}_{Gl}} \\mathbf{L_G} = - \\begin{bmatrix}\n",
      "\\frac{\\sqrt{2}}{2} & \\frac{\\sqrt{2}}{2} \\\\\n",
      "-\\frac{\\sqrt{2}}{2} & \\frac{\\sqrt{2}}{2} \n",
      "\\end{bmatrix} \\begin{bmatrix} 2 \\\\\\ 3 \\end{bmatrix} = \n",
      "\\begin{bmatrix} -5 \\frac{\\sqrt{2}}{2} \\\\\\ -\\frac{\\sqrt{2}}{2} \\end{bmatrix}$$"
     ]
    },
    {
     "cell_type": "markdown",
     "metadata": {},
     "source": [
      "$$\\mathbf{T_{lG}} = \\begin{bmatrix} \n",
      "\\frac{\\sqrt{2}}{2} &\\frac{\\sqrt{2}}{2} &-5 \\frac{\\sqrt{2}}{2}\\\\\\ \n",
      "-\\frac{\\sqrt{2}}{2} &\\frac{\\sqrt{2}}{2} & -\\frac{\\sqrt{2}}{2}\\\\\\\n",
      "0 & 0 & 1\n",
      "\\end{bmatrix}$$"
     ]
    },
    {
     "cell_type": "markdown",
     "metadata": {},
     "source": [
      "just getting some numerical values:"
     ]
    },
    {
     "cell_type": "code",
     "collapsed": false,
     "input": [
      "import numpy as np\n",
      "\n",
      "TlG = np.array([[np.sqrt(2)/2, np.sqrt(2)/2, -5* np.sqrt(2)/2], \n",
      "               [-np.sqrt(2)/2, np.sqrt(2)/2, -np.sqrt(2)/2], \n",
      "                [0, 0, 1]])\n",
      "print (np.round(TlG,4))"
     ],
     "language": "python",
     "metadata": {},
     "outputs": [
      {
       "output_type": "stream",
       "stream": "stdout",
       "text": [
        "[[ 0.7071  0.7071 -3.5355]\n",
        " [-0.7071  0.7071 -0.7071]\n",
        " [ 0.      0.      1.    ]]\n"
       ]
      }
     ],
     "prompt_number": 1
    },
    {
     "cell_type": "markdown",
     "metadata": {},
     "source": [
      "###b)\n",
      "\n",
      "####Translation\n",
      "\n",
      "$$ \\mathbf{P_G} = \\mathbf{L_G} + \\mathbf{R_{Gl}}\\mathbf{P_l} $$\n",
      "\n",
      "\n",
      "$$  \\mathbf{L_G} = \\begin{bmatrix} 2 \\\\\\ 3 \\end{bmatrix}$$\n",
      "\n"
     ]
    },
    {
     "cell_type": "markdown",
     "metadata": {},
     "source": [
      "####Rotation\n",
      "\n",
      "$$ \\mathbf{R_{Gl}} = \\begin{bmatrix}\n",
      "cos\\alpha & -sin\\alpha \\\\\n",
      "sin\\alpha & cos\\alpha \n",
      "\\end{bmatrix} $$\n",
      "\n",
      "$$ \\mathbf{R_{Gl}} = \\begin{bmatrix}\n",
      "cos 45^o & -sin45^o \\\\\n",
      "sin45^o & cos45^o \n",
      "\\end{bmatrix}  = \\begin{bmatrix}\n",
      "\\frac{\\sqrt{2}}{2} & -\\frac{\\sqrt{2}}{2} \\\\\n",
      "\\frac{\\sqrt{2}}{2} & \\frac{\\sqrt{2}}{2} \n",
      "\\end{bmatrix} = \\begin{bmatrix}\n",
      "0.7071 & -0.7071 \\\\\n",
      "0.7071 & 0.7071 \n",
      "\\end{bmatrix}$$"
     ]
    },
    {
     "cell_type": "markdown",
     "metadata": {},
     "source": [
      "####Transformation\n",
      "\n",
      "$$ \n",
      "\\begin{bmatrix}\n",
      "\\mathbf{P_X} \\\\\n",
      "\\mathbf{P_X} \\\\\n",
      "1\n",
      "\\end{bmatrix} =\n",
      "\\mathbf{T_{Gl}} \n",
      "\\begin{bmatrix}\n",
      "\\mathbf{P_x} \\\\\n",
      "\\mathbf{P_y} \\\\\n",
      "1\n",
      "\\end{bmatrix}\n",
      "$$"
     ]
    },
    {
     "cell_type": "heading",
     "level": 2,
     "metadata": {},
     "source": [
      "$$\\begin{bmatrix}\n",
      "\\mathbf{P_X} \\\\\n",
      "\\mathbf{P_Y} \\\\\n",
      "1\n",
      "\\end{bmatrix} =\n",
      "\\begin{bmatrix}\n",
      "cos\\alpha & -sin\\alpha & \\mathbf{L_{X}} \\\\\n",
      "sin\\alpha & cos\\alpha  & \\mathbf{L_{Y}} \\\\\n",
      "0 & 0 & 1\n",
      "\\end{bmatrix} \\begin{bmatrix}\n",
      "\\mathbf{P_x} \\\\\n",
      "\\mathbf{P_y} \\\\\n",
      "1\n",
      "\\end{bmatrix} $$"
     ]
    },
    {
     "cell_type": "markdown",
     "metadata": {},
     "source": [
      "$$\\mathbf{T_{Gl}} = \\begin{bmatrix} \n",
      "\\frac{\\sqrt{2}}{2} &-\\frac{\\sqrt{2}}{2} & 2\\\\\\ \n",
      "\\frac{\\sqrt{2}}{2} &\\frac{\\sqrt{2}}{2} & 3\\\\\\\n",
      "0 & 0 & 1\n",
      "\\end{bmatrix}$$"
     ]
    },
    {
     "cell_type": "markdown",
     "metadata": {},
     "source": [
      "$$\\mathbf{T_{Gl}} = \\begin{bmatrix} \n",
      "0.7071 & -0.7071 & 2\\\\\\ \n",
      "0.7071 & 0.7071 & 3\\\\\\\n",
      "0 & 0 & 1\n",
      "\\end{bmatrix}$$"
     ]
    },
    {
     "cell_type": "markdown",
     "metadata": {},
     "source": [
      "using the inv function we can also get the inverse of the previus matrix($\\mathbf{ T_{lG} }$) and check the result"
     ]
    },
    {
     "cell_type": "code",
     "collapsed": false,
     "input": [
      "from numpy.linalg import inv\n",
      "\n",
      "TGl = inv(TlG)\n",
      "\n",
      "print np.round(TGl,4)"
     ],
     "language": "python",
     "metadata": {},
     "outputs": [
      {
       "output_type": "stream",
       "stream": "stdout",
       "text": [
        "[[ 0.7071 -0.7071  2.    ]\n",
        " [ 0.7071  0.7071  3.    ]\n",
        " [ 0.      0.      1.    ]]\n"
       ]
      }
     ],
     "prompt_number": 3
    },
    {
     "cell_type": "markdown",
     "metadata": {},
     "source": [
      "###c\n",
      "\n",
      "Lets just use the transformation matrix we got in item b\n",
      "\n",
      "$$\\begin{bmatrix}\n",
      "\\mathbf{P_x} \\\\\n",
      "\\mathbf{P_y} \n",
      "\\end{bmatrix} =\n",
      "\\begin{bmatrix}\n",
      "1 \\\\\n",
      "1 \\\\\n",
      "\\end{bmatrix}$$"
     ]
    },
    {
     "cell_type": "markdown",
     "metadata": {},
     "source": [
      "$$ \\begin{bmatrix}\n",
      "\\mathbf{P_X} \\\\\n",
      "\\mathbf{P_Y} \\\\\n",
      "1\n",
      "\\end{bmatrix} =\n",
      "\\begin{bmatrix} \n",
      "0.7071 & -0.7071 & 2\\\\\\ \n",
      "0.7071 & 0.7071 & 3\\\\\\\n",
      "0 & 0 & 1\n",
      "\\end{bmatrix} \\begin{bmatrix}\n",
      "\\mathbf{P_x} \\\\\n",
      "\\mathbf{P_y} \\\\\n",
      "1\n",
      "\\end{bmatrix} $$"
     ]
    },
    {
     "cell_type": "code",
     "collapsed": false,
     "input": [
      "Pl  = np.array([[1, 1,1]]).T\n",
      "PG = np.dot(TGl, Pl)\n",
      "print np.round(PG,4)"
     ],
     "language": "python",
     "metadata": {},
     "outputs": [
      {
       "output_type": "stream",
       "stream": "stdout",
       "text": [
        "[[ 2.    ]\n",
        " [ 4.4142]\n",
        " [ 1.    ]]\n"
       ]
      }
     ],
     "prompt_number": 4
    },
    {
     "cell_type": "markdown",
     "metadata": {},
     "source": [
      "$$ \\begin{bmatrix}\n",
      "\\mathbf{P_X} \\\\\n",
      "\\mathbf{P_Y} \n",
      "\\end{bmatrix} =\n",
      "\\begin{bmatrix}\n",
      "2 \\\\\n",
      "4.4142 \n",
      "\\end{bmatrix}$$"
     ]
    },
    {
     "cell_type": "markdown",
     "metadata": {},
     "source": [
      "###d) \n",
      "\n",
      "Lets just use the transformation matrix we got in item a\n",
      "\n",
      "$$\\begin{bmatrix}\n",
      "\\mathbf{P_X} \\\\\n",
      "\\mathbf{P_X} \n",
      "\\end{bmatrix} =\n",
      "\\begin{bmatrix}\n",
      "1 \\\\\n",
      "1 \\\\\n",
      "\\end{bmatrix}$$"
     ]
    },
    {
     "cell_type": "markdown",
     "metadata": {},
     "source": [
      "$$ \\begin{bmatrix}\n",
      "\\mathbf{P_x} \\\\\n",
      "\\mathbf{P_y} \\\\\n",
      "1\n",
      "\\end{bmatrix} =\n",
      "\\begin{bmatrix} \n",
      "0.7071 & 0.7071 & -3.5355\\\\\\ \n",
      "-0.7071 & 0.7071 & -0.7071\\\\\\\n",
      "0 & 0 & 1\n",
      "\\end{bmatrix} \\begin{bmatrix}\n",
      "\\mathbf{P_X} \\\\\n",
      "\\mathbf{P_y} \\\\\n",
      "1\n",
      "\\end{bmatrix} $$"
     ]
    },
    {
     "cell_type": "code",
     "collapsed": false,
     "input": [
      "PG  = np.array([[1, 1,1]]).T\n",
      "Pl = np.dot(TlG, PG)\n",
      "print np.round(Pl,4)"
     ],
     "language": "python",
     "metadata": {},
     "outputs": [
      {
       "output_type": "stream",
       "stream": "stdout",
       "text": [
        "[[-2.1213]\n",
        " [-0.7071]\n",
        " [ 1.    ]]\n"
       ]
      }
     ],
     "prompt_number": 5
    },
    {
     "cell_type": "markdown",
     "metadata": {},
     "source": [
      "$$ \\begin{bmatrix}\n",
      "\\mathbf{P_x} \\\\\n",
      "\\mathbf{P_y} \n",
      "\\end{bmatrix} =\n",
      "\\begin{bmatrix}\n",
      "-2.1213 \\\\\n",
      "-0.7071 \n",
      "\\end{bmatrix}$$"
     ]
    }
   ],
   "metadata": {}
  }
 ]
}