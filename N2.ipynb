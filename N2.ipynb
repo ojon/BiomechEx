{
 "metadata": {
  "name": "",
  "signature": "sha256:f67204ac3b0a5467871329af38652f53a180ac417a34a03dc130c61666ef0384"
 },
 "nbformat": 3,
 "nbformat_minor": 0,
 "worksheets": [
  {
   "cells": [
    {
     "cell_type": "markdown",
     "metadata": {},
     "source": [
      "#Problem N2\n",
      "\n",
      "For the following data in table 1, calculate the angular velocity and acceleration of the shoulder and elbow joints and of the arm and forearm segments.\n",
      "Tempo (ms)\n",
      "Coordinates (x,y) (m) of the markers in the following joint centers:\n",
      "\n",
      "| Time(ms)  | Shoulder | Elbow  | Wrist |\n",
      "|---|---|---|---|\n",
      "|0|(0,0)|(0.5 , 0)|(0.5 , 0.5)|\n",
      "|100|(0,0)|(0.35 , 0.35)|(0.5 , 0)|\n",
      "|200|(0,0)|(0.5 , 0)|(1 , 0)|\n"
     ]
    },
    {
     "cell_type": "markdown",
     "metadata": {},
     "source": [
      "##Solution"
     ]
    },
    {
     "cell_type": "code",
     "collapsed": false,
     "input": [
      "import numpy as np\n",
      "import matplotlib.pyplot as plt\n",
      "%matplotlib inline"
     ],
     "language": "python",
     "metadata": {},
     "outputs": [],
     "prompt_number": 1
    },
    {
     "cell_type": "code",
     "collapsed": false,
     "input": [
      "t0_m_shoulder = np.array([0,0])\n",
      "t1_m_shoulder = np.array([0,0])\n",
      "t2_m_shoulder = np.array([0,0])\n",
      "\n",
      "t0_m_elbow = np.array([0.5,0])\n",
      "t1_m_elbow = np.array([0.35,0.35])\n",
      "t2_m_elbow = np.array([0.5,0])\n",
      "\n",
      "t0_m_wrist = np.array([0.5,0.5])\n",
      "t1_m_wrist = np.array([0.5,0])\n",
      "t2_m_wrist = np.array([1.0,0])"
     ],
     "language": "python",
     "metadata": {},
     "outputs": [],
     "prompt_number": 2
    },
    {
     "cell_type": "markdown",
     "metadata": {},
     "source": [
      "Lets build one vector for the arm and another for forearm using the markers positions, it will initiallt points from a proximal marker to a distal.\n",
      "\n",
      "$$\\vec{arm} = \\vec{elbowMaker} - \\vec{shoulderMaker}$$\n",
      "$$\\vec{forearm} = \\vec{wristMaker} - \\vec{elbowMaker}$$"
     ]
    },
    {
     "cell_type": "code",
     "collapsed": false,
     "input": [
      "t0_arm = t0_m_elbow - t0_m_shoulder\n",
      "t1_arm = t1_m_elbow - t1_m_shoulder\n",
      "t2_arm = t2_m_elbow - t2_m_shoulder\n",
      "\n",
      "t0_forearm = t0_m_wrist- t0_m_elbow\n",
      "t1_forearm = t1_m_wrist- t1_m_elbow\n",
      "t2_forearm = t2_m_wrist- t2_m_elbow"
     ],
     "language": "python",
     "metadata": {},
     "outputs": [],
     "prompt_number": 3
    },
    {
     "cell_type": "markdown",
     "metadata": {},
     "source": [
      "Now heres a couple of lines of code to make a nice a draw from the instant t=100ms"
     ]
    },
    {
     "cell_type": "code",
     "collapsed": false,
     "input": [
      "from matplotlib.patches import FancyArrowPatch\n",
      "\n",
      "hfig, hax = plt.subplots(1,1, figsize=(8,3))\n",
      "\n",
      "hax.xaxis.set_ticks((t1_m_shoulder[0], t1_m_wrist[0], t1_m_elbow[0]))\n",
      "hax.yaxis.set_ticks((t1_m_shoulder[1], t1_m_wrist[1], t1_m_elbow[1]))\n",
      "#hax.xaxis.set_ticklabels(('$x_1$','$x_2$','$x_3$','$x_4$'), fontsize=20)\n",
      "#hax.yaxis.set_ticklabels(('$y_1,\\,y_4$','$y_2,\\,y_3$'), fontsize=20)\n",
      "\n",
      "#arm\n",
      "hax.plot((t1_m_shoulder[0],t1_m_elbow[0]),(t1_m_shoulder[1],t1_m_elbow[1]),\n",
      "         'b-',(t1_m_shoulder[0],t1_m_elbow[0]),(t1_m_shoulder[1],t1_m_elbow[1]), \n",
      "         'ro', linewidth=3, markersize=12)\n",
      "\n",
      "#theta arm\n",
      "posA=(t1_m_shoulder[0]+0.15, t1_m_shoulder[1])\n",
      "posB=(t1_m_elbow[0]/3, t1_m_elbow[1]/3)\n",
      "hax.add_patch(FancyArrowPatch(posA,posB,\n",
      "                arrowstyle='->,head_length=10,head_width=5',\n",
      "                connectionstyle='arc3,rad=0.3'))\n",
      "plt.text(posA[0], 0.05, '$\\\\theta_{arm}$', fontsize=24)\n",
      "\n",
      "#foream\n",
      "hax.plot((t1_m_elbow[0],t1_m_wrist[0]), (t1_m_elbow[1],t1_m_wrist[1]), \n",
      "         'b-', (t1_m_elbow[0],t1_m_wrist[0]), \n",
      "         (t1_m_elbow[1],t1_m_wrist[1]), 'ro', linewidth=3, markersize=12)\n",
      "\n",
      "#theta foream\n",
      "posA=(t1_m_wrist[0]+0.05, 0)\n",
      "posB=((t1_arm+t1_forearm*.8)[0], (t1_arm+t1_forearm*.8)[1])\n",
      "hax.add_patch(FancyArrowPatch(posA,posB,\n",
      "                arrowstyle='->,head_length=10,head_width=5',\n",
      "                connectionstyle='arc3,rad=0.3'))\n",
      "plt.text(posA[0], 0.05, '$\\\\theta_{forearm}$', fontsize=24)\n",
      "\n",
      "#theta elbow\n",
      "posA=t1_arm*0.8\n",
      "posB=t1_arm + t1_forearm*0.2\n",
      "hax.add_patch(FancyArrowPatch(posA,posB,arrowstyle='->,head_length=10,head_width=5',\n",
      "                              connectionstyle='arc3,rad=0.3'))\n",
      "plt.text(posA[0]- 0.05, posA[1] - 0.1 ,'$\\\\theta_{elbow}=\\\\theta_{foream}-\\\\theta_{arm}$', fontsize=24)\n",
      "\n",
      "hax.set_xlim(min([t1_m_shoulder[0], t1_m_wrist[0], t1_m_elbow[0]])- 0.05, \n",
      "             max([t1_m_shoulder[0], t1_m_wrist[0], t1_m_elbow[0]])+ 0.15)\n",
      "hax.set_ylim(min([t1_m_shoulder[1], t1_m_wrist[1], t1_m_elbow[1]])-0.1, \n",
      "             max([t1_m_shoulder[1], t1_m_wrist[1], t1_m_elbow[1]])+0.1)\n",
      "hax.grid(xdata=(0,1), ydata=(0,1))\n",
      "plt.tight_layout()"
     ],
     "language": "python",
     "metadata": {},
     "outputs": [
      {
       "metadata": {},
       "output_type": "display_data",
       "png": "[encoded data removed]",
       "text": [
        "<matplotlib.figure.Figure at 0x7f4efe95ed90>"
       ]
      }
     ],
     "prompt_number": 4
    },
    {
     "cell_type": "markdown",
     "metadata": {},
     "source": [
      "The figure above represents our convention of angles.\n",
      "\n",
      "\n",
      "### Angles\n",
      "\n",
      "We calculate now the arm angles using arctan2. The angles will be placed in an array with the initial instant in the position 0."
     ]
    },
    {
     "cell_type": "code",
     "collapsed": false,
     "input": [
      "theta_arm = [0,0,0]\n",
      "theta_arm[0] = np.arctan2(t0_arm[1],t0_arm[0]) \n",
      "theta_arm[1] = np.arctan2(t1_arm[1],t1_arm[0])\n",
      "theta_arm[2] = np.arctan2(t2_arm[1],t2_arm[0])\n",
      "theta_arm = np.rad2deg(theta_arm)"
     ],
     "language": "python",
     "metadata": {},
     "outputs": [],
     "prompt_number": 12
    },
    {
     "cell_type": "markdown",
     "metadata": {},
     "source": [
      "To follow the convention we established before we are going to invert the foream vector so it points from the wrist to elbow."
     ]
    },
    {
     "cell_type": "code",
     "collapsed": false,
     "input": [
      "t0_forearm = -t0_forearm\n",
      "t1_forearm = -t1_forearm\n",
      "t2_forearm = -t2_forearm"
     ],
     "language": "python",
     "metadata": {},
     "outputs": [],
     "prompt_number": 8
    },
    {
     "cell_type": "markdown",
     "metadata": {},
     "source": [
      "The arctan2 function give us a number between $\\pi$ and $-\\pi$. We are going to adopt a convention where the angle of the forearm segment its always positive and measure counterclockwise from the horizontal line passing through the wrist. In order to have that we add $2\\pi$ to the arctan2 result in case the result is negative."
     ]
    },
    {
     "cell_type": "code",
     "collapsed": false,
     "input": [
      "theta_forearm = [0,0,0]\n",
      "theta_forearm[0] = np.arctan2(t0_forearm[1],t0_forearm[0])\n",
      "theta_forearm[0] = theta_forearm[0] if theta_forearm[0] >= 0 else 2*np.pi + theta_forearm[0]\n",
      "theta_forearm[1] = np.arctan2(t1_forearm[1],t1_forearm[0])\n",
      "theta_forearm[1] = theta_forearm[1] if theta_forearm[1] >= 0 else 2*np.pi + theta_forearm[1]\n",
      "theta_forearm[2] = np.arctan2(t2_forearm[1],t2_forearm[0])\n",
      "theta_forearm[2] = theta_forearm[2] if theta_forearm[2] >= 0 else 2*np.pi + theta_forearm[2]\n",
      "theta_forearm = np.rad2deg(theta_forearm)"
     ],
     "language": "python",
     "metadata": {},
     "outputs": [],
     "prompt_number": 9
    },
    {
     "cell_type": "markdown",
     "metadata": {},
     "source": [
      "We subtracted the angle of arm segment from the angle of the forearm to get the elbow angle."
     ]
    },
    {
     "cell_type": "code",
     "collapsed": false,
     "input": [
      "theta_elbow =  theta_forearm - theta_arm"
     ],
     "language": "python",
     "metadata": {},
     "outputs": [],
     "prompt_number": 10
    },
    {
     "cell_type": "code",
     "collapsed": false,
     "input": [
      "print np.round(theta_arm,2)\n",
      "print np.round(theta_forearm,2)\n",
      "print np.round(theta_elbow,2)"
     ],
     "language": "python",
     "metadata": {},
     "outputs": [
      {
       "output_type": "stream",
       "stream": "stdout",
       "text": [
        "[  0.  45.   0.]\n",
        "[ 270.   113.2  180. ]\n",
        "[ 270.    112.41  180.  ]\n"
       ]
      }
     ],
     "prompt_number": 13
    },
    {
     "cell_type": "markdown",
     "metadata": {},
     "source": [
      "####Angles\n",
      "| Time(ms)  | Arm | Forearm  | Elbow |\n",
      "|---|---|---|---|\n",
      "|0  |0     |$270^o$  |$270^o$ |\n",
      "|100|$45^o$|$113.2^o$  |$112.41^o$ |\n",
      "|200|0     |$180^o$  |$180^o$ |"
     ]
    },
    {
     "cell_type": "markdown",
     "metadata": {},
     "source": [
      "###Angular velocity\n",
      "\n",
      "The angular velocity is the rate (with respect to time) of change of the angular position:\n",
      "\n",
      "$$ \\mathbf{\\omega}(t) = \\frac{\\mathbf{\\theta}(t_2)-\\mathbf{\\theta}(t_1)}{t_2-t_1} = \\frac{\\Delta \\mathbf{\\theta}}{\\Delta t}$$\n",
      "\n",
      "we can use the diff function"
     ]
    },
    {
     "cell_type": "code",
     "collapsed": false,
     "input": [
      "omega_arm = np.diff(theta_arm)/0.1\n",
      "omega_forearm = np.diff(theta_forearm)/0.1\n",
      "omega_elbow = np.diff(theta_elbow)/0.1"
     ],
     "language": "python",
     "metadata": {},
     "outputs": [],
     "prompt_number": 15
    },
    {
     "cell_type": "code",
     "collapsed": false,
     "input": [
      "print np.round(omega_arm,2)\n",
      "print np.round(omega_forearm,2)\n",
      "print np.round(omega_elbow,2)"
     ],
     "language": "python",
     "metadata": {},
     "outputs": [
      {
       "output_type": "stream",
       "stream": "stdout",
       "text": [
        "[ 450. -450.]\n",
        "[-1568.01   668.01]\n",
        "[-1575.87   675.87]\n"
       ]
      }
     ],
     "prompt_number": 16
    },
    {
     "cell_type": "markdown",
     "metadata": {},
     "source": [
      "####Anglar Velocity\n",
      "| Time(ms)  | Arm [$^o/s$] | Forearm  [$^o/s$]| Elbow [$^o/s$]|\n",
      "|---|---|---|---|\n",
      "|100|450   | -1568.01  | -1575.87   |\n",
      "|200|-450  |  668.01   |  675.87  |"
     ]
    },
    {
     "cell_type": "markdown",
     "metadata": {},
     "source": [
      "###Angular Aceleration\n",
      "\n",
      "Angular acceleration is the rate (with respect to time) of change of the angular velocity, which can also be given by the second-order rate of change of the angular position:\n",
      "\n",
      "$$ \\mathbf{\\alpha}(t) = \\frac{\\mathbf{\\omega}(t_2)-\\mathbf{\\omega}(t_1)}{t_2-t_1} = \\frac{\\Delta \\mathbf{\\omega}}{\\Delta t}$$"
     ]
    },
    {
     "cell_type": "code",
     "collapsed": false,
     "input": [
      "alpha_arm = np.diff(omega_arm)/0.1\n",
      "alpha_forearm = np.diff(omega_forearm)/0.1\n",
      "alpha_elbow = np.diff(omega_elbow)/0.1\n",
      "\n",
      "print np.round(alpha_arm,2)\n",
      "print np.round(alpha_forearm,2)\n",
      "print np.round(alpha_elbow,2)"
     ],
     "language": "python",
     "metadata": {},
     "outputs": [
      {
       "output_type": "stream",
       "stream": "stdout",
       "text": [
        "[-9000.]\n",
        "[ 22360.28]\n",
        "[ 22517.36]\n"
       ]
      }
     ],
     "prompt_number": 20
    },
    {
     "cell_type": "markdown",
     "metadata": {},
     "source": [
      "####Anglar Aceleration\n",
      "| Time(ms)  | Arm [$^o/s^2$] | Forearm  [$^o/s^2$]| Elbow [$^o/s^2$]|\n",
      "|---|---|---|---|\n",
      "|200|-9000  | 22360.28    | 22517.36   |"
     ]
    }
   ],
   "metadata": {}
  }
 ]
}