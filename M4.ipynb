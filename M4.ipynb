{
 "metadata": {
  "name": "",
  "signature": "sha256:30f737c879c65038d9fa6b2dd971a646d01e6a7df4d0f3492923c669c27cfadc"
 },
 "nbformat": 3,
 "nbformat_minor": 0,
 "worksheets": [
  {
   "cells": [
    {
     "cell_type": "markdown",
     "metadata": {},
     "source": [
      "#Problem M4\n",
      "\n",
      "Determination of a three dimensional base from coordinates\n",
      "\n",
      "###a)\n",
      "Given the following three coordinates on a rigid body: [0,0,0]; [1,0,0];[0,1,0], calculate the orthonormal basis for that body.\n",
      "###b) \n",
      "Repeat the previous item for the following coordinates: [1,2,3];[1,1,1];[1,0,1].\n",
      "###c)\n",
      "Repeat item a for the following coordinates: [1,1,1];[2,2,2];[5,5,5].\n"
     ]
    },
    {
     "cell_type": "markdown",
     "metadata": {},
     "source": [
      "## Solution\n",
      "\n",
      "To find an orthogonal base from the mark positions, we first find a vector $\\vec{v_1} = {\\mathbf{m_2}} - {\\mathbf{m_3}}$, this vector is the first elemnt of the base. Next we find a vector $\\vec{v_2} = \\vec{v_1} \\times (\\mathbf{m_3} - \\mathbf{m_2})$, this will be the second element of the base. The last element will be $\\vec{v_3} = \\vec{v_2} \\times \\vec{v_1}$\n",
      "\n",
      "To have an orthonormal base we need to normalize this base:\n",
      "\n",
      "$$ \\hat{e_1} = \\frac{\\vec{v_1}}{\\lVert \\vec{v_1} \\rVert} $$\n",
      "\n",
      "$$ \\hat{e_2} = \\frac{\\vec{v_2}}{\\lVert \\vec{v_2} \\rVert} $$\n",
      "\n",
      "$$ \\hat{e_3} = \\frac{\\vec{v_3}}{\\lVert \\vec{v_3} \\rVert} $$\n",
      "\n"
     ]
    },
    {
     "cell_type": "markdown",
     "metadata": {},
     "source": [
      "We can do all that with a function:"
     ]
    },
    {
     "cell_type": "code",
     "collapsed": false,
     "input": [
      "import numpy as np\n",
      "\n",
      "from sympy import Matrix\n",
      "from IPython.display import display, Math\n",
      "from sympy.physics.mechanics import  mlatex"
     ],
     "language": "python",
     "metadata": {},
     "outputs": [],
     "prompt_number": 1
    },
    {
     "cell_type": "code",
     "collapsed": false,
     "input": [
      "def find_base_from_marks(m1,m2,m3):\n",
      "    v1 = m2 - m1\n",
      "    v2 = np.cross(v1, m3 - m2) \n",
      "    \n",
      "    if len(v2.nonzero()[0]) == 0:\n",
      "        print \"LD vectors, impossible to build a base\"\n",
      "    else:\n",
      "\n",
      "        v3 =  np.cross(v1,v2)\n",
      "\n",
      "        e1 = v1/np.linalg.norm(v1)\n",
      "        e2 = v2/np.linalg.norm(v2)\n",
      "        e3 = v3/np.linalg.norm(v3)\n",
      "\n",
      "        base = [e1, e2, e3]\n",
      "    \n",
      "        return (e1, e2, e3)\n",
      "    return [v1,np.array([0,0,0]),np.array([0,0,0])]"
     ],
     "language": "python",
     "metadata": {},
     "outputs": [],
     "prompt_number": 2
    },
    {
     "cell_type": "markdown",
     "metadata": {},
     "source": [
      "###a)\n",
      "Now for item a we have:"
     ]
    },
    {
     "cell_type": "code",
     "collapsed": false,
     "input": [
      "m1 = np.array([0,0,0])\n",
      "m2 = np.array([1,0,0])\n",
      "m3 = np.array([0,1,0])\n",
      "e1, e2, e3 = find_base_from_marks(m1,m2,m3)\n",
      "print e1 \n",
      "print e2\n",
      "print e3"
     ],
     "language": "python",
     "metadata": {},
     "outputs": [
      {
       "output_type": "stream",
       "stream": "stdout",
       "text": [
        "[ 1.  0.  0.]\n",
        "[ 0.  0.  1.]\n",
        "[ 0. -1.  0.]\n"
       ]
      }
     ],
     "prompt_number": 3
    },
    {
     "cell_type": "markdown",
     "metadata": {},
     "source": [
      "###b)\n",
      "\n",
      "For item b:"
     ]
    },
    {
     "cell_type": "code",
     "collapsed": false,
     "input": [
      "m1 = np.array([1,2,3])\n",
      "m2 = np.array([1,1,1])\n",
      "m3 = np.array([1,0,1])\n",
      "\n",
      "e1, e2, e3 = find_base_from_marks(m1,m2,m3)\n",
      "\n",
      "print np.round(e1,4) \n",
      "print np.round(e2,4)\n",
      "print np.round(e3,4)"
     ],
     "language": "python",
     "metadata": {},
     "outputs": [
      {
       "output_type": "stream",
       "stream": "stdout",
       "text": [
        "[ 0.     -0.4472 -0.8944]\n",
        "[-1.  0.  0.]\n",
        "[ 0.      0.8944 -0.4472]\n"
       ]
      }
     ],
     "prompt_number": 4
    },
    {
     "cell_type": "markdown",
     "metadata": {},
     "source": [
      "###c)\n",
      "For item c:"
     ]
    },
    {
     "cell_type": "code",
     "collapsed": false,
     "input": [
      "m1 = np.array([1,1,1])\n",
      "m2 = np.array([2,2,2])\n",
      "m3 = np.array([5,5,5])\n",
      "\n",
      "e1, e2, e3 = find_base_from_marks(m1,m2,m3)\n",
      "\n",
      "print np.round(e1,4) \n",
      "print np.round(e2,4)\n",
      "print np.round(e3,4)"
     ],
     "language": "python",
     "metadata": {},
     "outputs": [
      {
       "output_type": "stream",
       "stream": "stdout",
       "text": [
        "LD vectors, impossible to build a base\n",
        "[1 1 1]\n",
        "[0 0 0]\n",
        "[0 0 0]\n"
       ]
      }
     ],
     "prompt_number": 5
    },
    {
     "cell_type": "markdown",
     "metadata": {},
     "source": [
      "In this case the vectors are linearment dependents and is not possible to have a base for a 3 dimensional space. We can notice $\\vec{v_2} = \\vec{v_1} \\times (\\mathbf{m_3} - \\mathbf{m_2}) = 0$ as an evidence"
     ]
    },
    {
     "cell_type": "code",
     "collapsed": false,
     "input": [],
     "language": "python",
     "metadata": {},
     "outputs": []
    }
   ],
   "metadata": {}
  }
 ]
}